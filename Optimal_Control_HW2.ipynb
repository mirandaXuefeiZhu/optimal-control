
{
 "cells": [
  {
   "cell_type": "code",
   "execution_count": 10,
   "metadata": {},
   "outputs": [
    {
     "name": "stdout",
     "output_type": "stream",
     "text": [
      "--------- With K = 2, x3 = u2 + x2 ---------\n",
      "[50. 32. 18.  8.  2.  0.  2.  8. 18. 32. 50.]\n",
      "when x2= 0 , u2= [0] ,J2_min= 0.0\n",
      "[42. 26. 14.  6.  2.  2.  6. 14. 26. 42. 62.]\n",
      "when x2= 1 , u2= [-1  0] ,J2_min= 2.0\n",
      "[38. 24. 14.  8.  6.  8. 14. 24. 38. 56. 78.]\n",
      "when x2= 2 , u2= [-1] ,J2_min= 6.0\n",
      "[38. 26. 18. 14. 14. 18. 26. 38. 54. 74. 98.]\n",
      "when x2= 3 , u2= [-2 -1] ,J2_min= 14.0\n",
      "[ 42.  32.  26.  24.  26.  32.  42.  56.  74.  96. 122.]\n",
      "when x2= 4 , u2= [-2] ,J2_min= 24.0\n",
      "[ 50.  42.  38.  38.  42.  50.  62.  78.  98. 122. 150.]\n",
      "when x2= 5 , u2= [-3 -2] ,J2_min= 38.0\n"
     ]
    }
   ],
   "source": [
    "#################### Problem 1 (a) ####################\n",
    "# With K = 2 & x3 = u2 + x2\n",
    "print(\"--------- With K = 2, x3 = u2 + x2 ---------\")\n",
    "import numpy as np\n",
    "u = np.arange(-5,5+1) # -5 <= u <= 5\n",
    "x = np.arange(0,5+1)  # 0 <= x <= 5\n",
    "\n",
    "frow = [] # initialize single row of the f matrix\n",
    "for xi in x:\n",
    "    for ui in u:\n",
    "        q = 2*(xi**2+ui**2+xi*ui) \n",
    "        frow = np.append(frow,q)\n",
    "    print(frow)\n",
    "    posminu = np.where(frow == frow.min())#find the position of u when min(J)\n",
    "    minJ = min(frow)\n",
    "    print(\"when x2=\",xi, \", u2=\", u[posminu], \",J2_min=\", minJ)\n",
    "    frow = [] #re-initialize the f matrix row for next x-value"
   ]
  },
  {
   "cell_type": "code",
   "execution_count": null,
   "metadata": {},
   "outputs": [],
   "source": []
  },
  {
   "cell_type": "code",
   "execution_count": 12,
   "metadata": {},
   "outputs": [
    {
     "name": "stdout",
     "output_type": "stream",
     "text": [
      "--------- With K = 1, x2 = u1 + x1 ---------\n",
      "frow:  [50. 32. 18.  8.  2.  0.  4. 14. 32. 56. 88.]\n",
      "when x1= 0 , u1= [0] ,J1_min= 0.0\n",
      "frow:  [42. 26. 14.  6.  2.  4. 12. 28. 50. 80. 62.]\n",
      "when x1= 1 , u1= [-1] ,J1_min= 2.0\n",
      "frow:  [38. 24. 14.  8.  8. 14. 28. 48. 76. 56. 78.]\n",
      "when x1= 2 , u1= [-2 -1] ,J1_min= 8.0\n",
      "frow:  [38. 26. 18. 16. 20. 32. 50. 76. 54. 74. 98.]\n",
      "when x1= 3 , u1= [-2] ,J1_min= 16.0\n",
      "frow:  [ 42.  32.  28.  30.  40.  56.  80.  56.  74.  96. 122.]\n",
      "when x1= 4 , u1= [-3] ,J1_min= 28.0\n",
      "frow:  [ 50.  44.  44.  52.  66.  88.  62.  78.  98. 122. 150.]\n",
      "when x1= 5 , u1= [-4 -3] ,J1_min= 44.0\n"
     ]
    }
   ],
   "source": [
    "# With K = 1 & x2 = u1 + x1\n",
    "print(\"--------- With K = 1, x2 = u1 + x1 ---------\")\n",
    "import numpy as np\n",
    "u = np.arange(-5,5+1) # -5 <= u <= 5\n",
    "x = np.arange(0,5+1)  # 0 <= x <= 5\n",
    "J_min_matrix = [0,2,6,14,24,38]\n",
    "frow = [] # initialize single row of the f matrix\n",
    "frow_=[]\n",
    "for xi in x:\n",
    "    for ui in u:\n",
    "        xu = xi + ui #J2(x2) = J2(x1+u1), find J2 in previous result\n",
    "        if xu in x:\n",
    "            J2 = J_min_matrix[xu]\n",
    "            #print(\"x1=\", xi, \"u1=\", ui, \"J2=\", J2, \"xu=\", xu) #for check purpose\n",
    "            q = 2*(xi**2+ui**2+xi*ui)+J2\n",
    "        else:\n",
    "            J2 = 0 #for those J2(x1+u1) which don't exist\n",
    "            q = 2*(xi**2+ui**2+xi*ui)\n",
    "        frow = np.append(frow,q)\n",
    "    print(\"frow: \",frow)\n",
    "    posminu = np.where(frow == frow.min())#find the position of u when min(J)\n",
    "    minJ = min(frow)\n",
    "    print(\"when x1=\",xi, \", u1=\", u[posminu], \",J1_min=\", minJ)\n",
    "    frow = [] #re-initialize the f matrix row for next x-value"
   ]
  },
  {
   "cell_type": "code",
   "execution_count": 14,
   "metadata": {},
   "outputs": [
    {
     "name": "stdout",
     "output_type": "stream",
     "text": [
      "--------- With K = 1, x2 = u1 + x1 ---------\n",
      "[50. 44. 46. 54. 70. 94.]\n",
      "when x0= 5, u0= [-4] ,J0_min= 44.0\n"
     ]
    }
   ],
   "source": [
    "# With K = 0 & x1 = u0 + x0\n",
    "print(\"--------- With K = 1, x2 = u1 + x1 ---------\")\n",
    "import numpy as np\n",
    "u = np.arange(-5,5+1) # -5 <= u <= 5\n",
    "x = np.arange(0,5+1)  # 0 <= x <= 5\n",
    "x0 = 5 #given x0\n",
    "U0 =[-5,-4,-3,-2,-1,0]#reduce the length of the U vector\n",
    "J1 = [0,2,8,16,28,44]\n",
    "J0 = [] #initialize empty array\n",
    "for u0 in U0: \n",
    "    xu = x0 + u0\n",
    "    if xu in x: #x is the initial vector [0,5]\n",
    "        j1 = J1[xu] \n",
    "        J = 50+2*u0**2+10*u0+j1\n",
    "        J0 = np.append(J0,J)\n",
    "print(J0)\n",
    "posminu = np.where(J0 == J0.min())#find the position of u when min(J)\n",
    "minJ = min(J0)\n",
    "print(\"when x0= 5, u0=\", u[posminu], \",J0_min=\", minJ)"
   ]
  },
  {
   "cell_type": "code",
   "execution_count": 15,
   "metadata": {},
   "outputs": [
    {
     "name": "stdout",
     "output_type": "stream",
     "text": [
      "--------- With K = 2, x3 = u2 + x2 ---------\n",
      "[50. 50. 50. 50. 50. 50. 50. 50. 50. 50. 50.]\n",
      "when x2= 0 , u2= [-5 -4 -3 -2 -1  0  1  2  3  4  5] ,J2_min= 50.0\n",
      "[60. 58. 56. 54. 52. 50. 48. 46. 44. 42. 40.]\n",
      "when x2= 1 , u2= [5] ,J2_min= 40.0\n",
      "[70. 66. 62. 58. 54. 50. 46. 42. 38. 34. 30.]\n",
      "when x2= 2 , u2= [5] ,J2_min= 30.0\n",
      "[80. 74. 68. 62. 56. 50. 44. 38. 32. 26. 20.]\n",
      "when x2= 3 , u2= [5] ,J2_min= 20.0\n",
      "[90. 82. 74. 66. 58. 50. 42. 34. 26. 18. 10.]\n",
      "when x2= 4 , u2= [5] ,J2_min= 10.0\n",
      "[100.  90.  80.  70.  60.  50.  40.  30.  20.  10.   0.]\n",
      "when x2= 5 , u2= [5] ,J2_min= 0.0\n"
     ]
    }
   ],
   "source": [
    "#################### Problem 1 (b) ####################\n",
    "# With K = 2 & x3 = u2 + x2\n",
    "print(\"--------- With K = 2, x3 = u2 + x2 ---------\")\n",
    "import numpy as np\n",
    "u = np.arange(-5,5+1) # -5 <= u <= 5\n",
    "x = np.arange(0,5+1)  # 0 <= x <= 5\n",
    "\n",
    "frow = [] # initialize single row of the f matrix\n",
    "for xi in x:\n",
    "    for ui in u:\n",
    "        q = 50-2*xi*ui \n",
    "        frow = np.append(frow,q)\n",
    "    print(frow)\n",
    "    posminu = np.where(frow == frow.min())#find the position of u when min(J)\n",
    "    minJ = min(frow)\n",
    "    print(\"when x2=\",xi, \", u2=\", u[posminu], \",J2_min=\", minJ)\n",
    "    frow = [] #re-initialize the f matrix row for next x-value"
   ]
  },
  {
   "cell_type": "code",
   "execution_count": 16,
   "metadata": {},
   "outputs": [
    {
     "name": "stdout",
     "output_type": "stream",
     "text": [
      "--------- With K = 1, x2 = u1 + x1 ---------\n",
      "frow:  [inf inf inf inf inf 50. 42. 38. 38. 42. 50.]\n",
      "when x1= 0 , u1= [2 3] ,J1_min= 38.0\n",
      "frow:  [inf inf inf inf 52. 42. 36. 34. 36. 42. inf]\n",
      "when x1= 1 , u1= [2] ,J1_min= 34.0\n",
      "frow:  [inf inf inf 58. 46. 38. 34. 34. 38. inf inf]\n",
      "when x1= 2 , u1= [1 2] ,J1_min= 34.0\n",
      "frow:  [inf inf 68. 54. 44. 38. 36. 38. inf inf inf]\n",
      "when x1= 3 , u1= [1] ,J1_min= 36.0\n",
      "frow:  [inf 82. 66. 54. 46. 42. 42. inf inf inf inf]\n",
      "when x1= 4 , u1= [0 1] ,J1_min= 42.0\n",
      "frow:  [100.  82.  68.  58.  52.  50.  inf  inf  inf  inf  inf]\n",
      "when x1= 5 , u1= [0] ,J1_min= 50.0\n"
     ]
    }
   ],
   "source": [
    "# With K = 1 & x2 = u1 + x1\n",
    "print(\"--------- With K = 1, x2 = u1 + x1 ---------\")\n",
    "import numpy as np\n",
    "u = np.arange(-5,5+1) # -5 <= u <= 5\n",
    "x = np.arange(0,5+1)  # 0 <= x <= 5\n",
    "J_min_matrix = [50,40,30,20,10,0]\n",
    "frow = [] # initialize single row of the f matrix\n",
    "frow_=[]\n",
    "for xi in x:\n",
    "    for ui in u:\n",
    "        xu = xi + ui #J2(x2) = J2(x1+u1), find J2 in previous result\n",
    "        if xu in x:\n",
    "            J2 = J_min_matrix[xu]\n",
    "            #print(\"x1=\", xi, \"u1=\", ui, \"J2=\", J2, \"xu=\", xu) #for check purpose\n",
    "            q = 2*(xi**2+ui**2+xi*ui)+J2\n",
    "        else:\n",
    "            q = float(\"inf\")\n",
    "        frow = np.append(frow,q)\n",
    "        \n",
    "    print(\"frow: \",frow)\n",
    "    posminu = np.where(frow == frow.min())#find the position of u when min(J)\n",
    "    minJ = min(frow)\n",
    "    print(\"when x1=\",xi, \", u1=\", u[posminu], \",J1_min=\", minJ)\n",
    "    frow = [] #re-initialize the f matrix row for next x-value"
   ]
  },
  {
   "cell_type": "code",
   "execution_count": 17,
   "metadata": {},
   "outputs": [
    {
     "name": "stdout",
     "output_type": "stream",
     "text": [
      "--------- With K = 1, x2 = u1 + x1 ---------\n",
      "[ 88.  76.  72.  74.  84. 100.]\n",
      "when x0= 5, u0= [-3] ,J0_min= 72.0\n"
     ]
    }
   ],
   "source": [
    "# With K = 0 & x1 = u0 + x0\n",
    "print(\"--------- With K = 1, x2 = u1 + x1 ---------\")\n",
    "x0 = 5 #given x0\n",
    "U0 =[-5,-4,-3,-2,-1,0]#reduce the length of the U vector\n",
    "J1 = [38,34,34,36,42,50]\n",
    "J0 = [] #initialize empty array\n",
    "for u0 in U0: \n",
    "    xu = x0 + u0\n",
    "    if xu in x: #x is the initial vector [0,5]\n",
    "        j1 = J1[xu] \n",
    "        J = 50+2*u0**2+10*u0+j1\n",
    "        J0 = np.append(J0,J)\n",
    "print(J0)\n",
    "posminu = np.where(J0 == J0.min())#find the position of u when min(J)\n",
    "minJ = min(J0)\n",
    "print(\"when x0= 5, u0=\", u[posminu], \",J0_min=\", minJ)"
   ]
  },
  {
   "cell_type": "code",
   "execution_count": 18,
   "metadata": {},
   "outputs": [
    {
     "name": "stdout",
     "output_type": "stream",
     "text": [
      "--------- With K = 2, x3 = u2 + x2 ---------\n",
      "[50. 32. 18.  8.  2.  0.  2.  8. 18. 32. 50.]\n",
      "when x2= 0 , u2= [0] ,J2_min= 0.0\n",
      "[42. 26. 14.  6.  2.  2.  6. 14. 26. 42. 62.]\n",
      "when x2= 1 , u2= [-1  0] ,J2_min= 2.0\n",
      "[38. 24. 14.  8.  6.  8. 14. 24. 38. 56. 78.]\n",
      "when x2= 2 , u2= [-1] ,J2_min= 6.0\n",
      "[38. 26. 18. 14. 14. 18. 26. 38. 54. 74. 98.]\n",
      "when x2= 3 , u2= [-2 -1] ,J2_min= 14.0\n",
      "[ 42.  32.  26.  24.  26.  32.  42.  56.  74.  96. 122.]\n",
      "when x2= 4 , u2= [-2] ,J2_min= 24.0\n",
      "[ 50.  42.  38.  38.  42.  50.  62.  78.  98. 122. 150.]\n",
      "when x2= 5 , u2= [-3 -2] ,J2_min= 38.0\n"
     ]
    }
   ],
   "source": [
    "#################### Problem 1 (c)####################\n",
    "# With K = 2 & x3 = u2 + x2\n",
    "print(\"--------- With K = 2, x3 = u2 + x2 ---------\")\n",
    "import numpy as np\n",
    "u = np.arange(-5,5+1) # -5 <= u <= 5\n",
    "x = np.arange(0,5+1)  # 0 <= x <= 5\n",
    "\n",
    "frow = [] # initialize single row of the f matrix\n",
    "for xi in x:\n",
    "    for ui in u:\n",
    "        q = 2*(xi**2+ui**2+xi*ui) \n",
    "        frow = np.append(frow,q)\n",
    "    print(frow)\n",
    "    posminu = np.where(frow == frow.min())#find the position of u when min(J)\n",
    "    minJ = min(frow)\n",
    "    print(\"when x2=\",xi, \", u2=\", u[posminu], \",J2_min=\", minJ)\n",
    "    frow = [] #re-initialize the f matrix row for next x-value"
   ]
  },
  {
   "cell_type": "code",
   "execution_count": 19,
   "metadata": {},
   "outputs": [
    {
     "name": "stdout",
     "output_type": "stream",
     "text": [
      "--------- With K = 1, x2 = u1 + x1 ---------\n",
      "frow:  [inf inf inf inf inf  0.  8. 24. 48. 84. 88.]\n",
      "when x1= 0 , u1= [0] ,J1_min= 0.0\n",
      "frow:  [inf inf inf inf  2.  8. 22. 44. 78. 80. inf]\n",
      "when x1= 1 , u1= [-1] ,J1_min= 2.0\n",
      "frow:  [inf inf inf  8. 12. 24. 44. 76. 76. inf inf]\n",
      "when x1= 2 , u1= [-2] ,J1_min= 8.0\n",
      "frow:  [inf inf 18. 20. 30. 48. 78. 76. inf inf inf]\n",
      "when x1= 3 , u1= [-3] ,J1_min= 18.0\n",
      "frow:  [inf 32. 32. 40. 56. 84. 80. inf inf inf inf]\n",
      "when x1= 4 , u1= [-4 -3] ,J1_min= 32.0\n",
      "frow:  [50. 48. 54. 68. 94. 88. inf inf inf inf inf]\n",
      "when x1= 5 , u1= [-4] ,J1_min= 48.0\n"
     ]
    }
   ],
   "source": [
    "# With K = 1 & x2 = u1 + x1\n",
    "print(\"--------- With K = 1, x2 = u1 + x1 ---------\")\n",
    "import numpy as np\n",
    "u = np.arange(-5,5+1) # -5 <= u <= 5\n",
    "x = np.arange(0,5+1)  # 0 <= x <= 5\n",
    "J_min_matrix = [0,2,6,14,24,38]\n",
    "frow = [] # initialize single row of the f matrix\n",
    "frow_=[]\n",
    "for xi in x:\n",
    "    for ui in u:\n",
    "        xu = xi + ui #J2(x2) = J2(x1+u1), find J2 in previous result\n",
    "        if xu in x:\n",
    "            \n",
    "            \n",
    "            if xu == 0 or xu == 5:\n",
    "                J2 = J_min_matrix[xu]\n",
    "            #print(\"x1=\", xi, \"u1=\", ui, \"J2=\", J2, \"xu=\", xu) #for check purpose\n",
    "                q = 2*(xi**2+ui**2+xi*ui)+J2\n",
    "                \n",
    "            else:\n",
    "                \n",
    "                J2_1 = J_min_matrix[xu+1]\n",
    "                J2_2 = J_min_matrix[xu-1]\n",
    "                q = 2*(xi**2+ui**2+xi*ui)+J2_1+J2_2\n",
    "            \n",
    "        else:\n",
    "            q = float(\"inf\")\n",
    "        frow = np.append(frow,q)\n",
    "    print(\"frow: \",frow)\n",
    "    posminu = np.where(frow == frow.min())#find the position of u when min(J)\n",
    "    minJ = min(frow)\n",
    "    print(\"when x1=\",xi, \", u1=\", u[posminu], \",J1_min=\", minJ)\n",
    "    frow = [] #re-initialize the f matrix row for next x-value"
   ]
  },
  {
   "cell_type": "code",
   "execution_count": 20,
   "metadata": {},
   "outputs": [
    {
     "name": "stdout",
     "output_type": "stream",
     "text": [
      "--------- With K = 0, x1 = u0 + x0 ---------\n",
      "[ 50.  50.  58.  78. 108.  98.]\n",
      "when x0= 5, u0= [-5 -4] ,J0_min= 50.0\n"
     ]
    }
   ],
   "source": [
    "# With K = 0 & x1 = u0 + x0\n",
    "print(\"--------- With K = 0, x1 = u0 + x0 ---------\")\n",
    "x0 = 5 #given x0\n",
    "U0 =[-5,-4,-3,-2,-1,0]#reduce the length of the U vector\n",
    "J1 = [0,2,8,18,32,48]\n",
    "J0 = [] #initialize empty array\n",
    "for u0 in U0: \n",
    "    xu = x0 + u0\n",
    "    \n",
    "    if xu in x: #x is the initial vector [0,5]\n",
    "        \n",
    "        if xu == 5 or xu == 0:\n",
    "            j1 = J1[xu] \n",
    "            q = 50+10*u0+2*u0**2+j1\n",
    "        else:\n",
    "            J2_1 = J1[xu+1]\n",
    "            J2_2 = J1[xu-1]\n",
    "            q = 50+10*u0+2*u0**2+J2_1+J2_2\n",
    "            \n",
    "    else:\n",
    "            q = float(\"inf\")\n",
    "    J0 = np.append(J0,q)\n",
    "print(J0)\n",
    "posminu = np.where(J0==J0.min())#find the position of u when min(J)\n",
    "minJ = min(J0)\n",
    "print(\"when x0= 5, u0=\", u[posminu], \",J0_min=\", minJ)"
   ]
  },
  {
   "cell_type": "code",
   "execution_count": 4,
   "metadata": {},
   "outputs": [
    {
     "name": "stdout",
     "output_type": "stream",
     "text": [
      "part - a\n",
      "The system is NOT stable, the eigenvalues are:  [ 1.61803399 -0.61803399  1.5       ]\n",
      "Controllability matrix is:\n",
      " [[0. 1. 1.]\n",
      " [0. 0. 0.]\n",
      " [1. 0. 1.]]\n",
      "The system is NOT controllable.\n",
      "\n",
      "part - b\n",
      "The system is NOT stable, the eigenvalues are:  [ 1.61803399 -0.61803399  1.5       ]\n",
      "Controllability matrix is:\n",
      " [[0.   1.   1.  ]\n",
      " [1.   1.5  2.25]\n",
      " [1.   0.   1.  ]]\n",
      "The system is full rank and is controllable.\n",
      "\n",
      "part - c\n",
      "The system is NOT stable, the eigenvalues are:  [ 0.5 -0.5  0.5]\n",
      "Controllability matrix is:\n",
      " [[ 1.    1.    0.75]\n",
      " [ 0.   -1.    0.  ]\n",
      " [ 1.    0.5   0.25]]\n",
      "The system is full rank and is controllable.\n",
      "\n",
      "part - d\n",
      "The system is NOT stable, the eigenvalues are:  [ 5.00201856  0.48879085 -0.49080941]\n",
      "Controllability matrix is:\n",
      " [[ 0.    0.5   0.  ]\n",
      " [ 1.   -0.5   0.25]\n",
      " [ 0.    0.   -0.05]]\n",
      "The system is full rank and is controllable.\n",
      "\n"
     ]
    }
   ],
   "source": [
    
